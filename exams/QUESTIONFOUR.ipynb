{
 "cells": [
  {
   "cell_type": "code",
   "execution_count": 1,
   "metadata": {},
   "outputs": [],
   "source": [
    "import numpy as np"
   ]
  },
  {
   "cell_type": "code",
   "execution_count": 9,
   "metadata": {},
   "outputs": [
    {
     "name": "stdout",
     "output_type": "stream",
     "text": [
      "Original Matrix:\n",
      "[[1.  0.2 0.5]\n",
      " [0.2 1.  0.8]\n",
      " [0.5 0.8 0. ]]\n",
      "\n",
      "Inverse Matrix:\n",
      "[[ 0.87671233 -0.54794521  0.46575342]\n",
      " [-0.54794521  0.34246575  0.95890411]\n",
      " [ 0.46575342  0.95890411 -1.31506849]]\n"
     ]
    }
   ],
   "source": [
    "import numpy as np\n",
    "\n",
    "#(a)Construct a matrix as a NumPy array\n",
    "matrix = np.array([[1, 0.2, 0.5], [0.2, 1, 0.8], [0.5, 0.8, 0]])\n",
    "\n",
    "#(a) Computing the inverse of the matrix\n",
    "inverse_matrix = np.linalg.inv(matrix)\n",
    "\n",
    "print(\"Original Matrix:\")\n",
    "print(matrix)\n",
    "\n",
    "print(\"\\nInverse Matrix:\")\n",
    "print(inverse_matrix)\n"
   ]
  },
  {
   "cell_type": "code",
   "execution_count": 10,
   "metadata": {},
   "outputs": [
    {
     "name": "stdout",
     "output_type": "stream",
     "text": [
      "Determinant: -0.7300000000000001\n",
      "Eigenvalues: [ 1.70914434  0.81495271 -0.52409705]\n",
      "Eigenvectors:\n",
      "[[-0.53521254 -0.81268265 -0.23042232]\n",
      " [-0.69408264  0.57856585 -0.42838166]\n",
      " [-0.48145283  0.06934311  0.87372462]]\n"
     ]
    }
   ],
   "source": [
    "# computing the derterminat \n",
    "import numpy as np\n",
    "\n",
    "\n",
    "matrix = np.array([[1, 0.2, 0.5], [0.2, 1, 0.8], [0.5, 0.8, 0]])\n",
    "\n",
    "\n",
    "#(b) Computing the determinant\n",
    "determinant = np.linalg.det(matrix)\n",
    "print(\"Determinant:\", determinant)\n",
    "\n",
    "#(c) Decomposing the matrix\n",
    "eigenvalues, eigenvectors = np.linalg.eig(matrix)\n",
    "print(\"Eigenvalues:\", eigenvalues)\n",
    "print(\"Eigenvectors:\")\n",
    "print(eigenvectors)"
   ]
  }
 ],
 "metadata": {
  "kernelspec": {
   "display_name": "Python 3",
   "language": "python",
   "name": "python3"
  },
  "language_info": {
   "codemirror_mode": {
    "name": "ipython",
    "version": 3
   },
   "file_extension": ".py",
   "mimetype": "text/x-python",
   "name": "python",
   "nbconvert_exporter": "python",
   "pygments_lexer": "ipython3",
   "version": "3.11.6"
  }
 },
 "nbformat": 4,
 "nbformat_minor": 2
}
