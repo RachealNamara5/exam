{
 "cells": [
  {
   "cell_type": "code",
   "execution_count": 1,
   "metadata": {},
   "outputs": [
    {
     "name": "stdout",
     "output_type": "stream",
     "text": [
      "The solution to the linear equations is:\n",
      "x = 2.7647058823529416\n",
      "y = -0.2941176470588235\n",
      "z = -0.3529411764705882\n"
     ]
    }
   ],
   "source": [
    "import numpy as np\n",
    "\n",
    "#  Here i Defined the coefficients of the linear equations am going to use as example.\n",
    "A = np.array([[2, 3, -1],\n",
    "              [4, 1, 5],\n",
    "              [1, -2, 1]])\n",
    "\n",
    "#  the right-hand side of the equations is defined here\n",
    "B = np.array([5, 9, 3])\n",
    "\n",
    "# Solve the linear equations\n",
    "X = np.linalg.solve(A, B)\n",
    "\n",
    "# Print the solution\n",
    "print(\"The solution to the linear equations is:\")\n",
    "print(f\"x = {X[0]}\")\n",
    "print(f\"y = {X[1]}\")\n",
    "print(f\"z = {X[2]}\")"
   ]
  }
 ],
 "metadata": {
  "kernelspec": {
   "display_name": "Python 3",
   "language": "python",
   "name": "python3"
  },
  "language_info": {
   "codemirror_mode": {
    "name": "ipython",
    "version": 3
   },
   "file_extension": ".py",
   "mimetype": "text/x-python",
   "name": "python",
   "nbconvert_exporter": "python",
   "pygments_lexer": "ipython3",
   "version": "3.11.6"
  }
 },
 "nbformat": 4,
 "nbformat_minor": 2
}
